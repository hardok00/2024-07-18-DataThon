{
 "cells": [
  {
   "cell_type": "markdown",
   "metadata": {
    "id": "0D749umtGjD3"
   },
   "source": [
    "## 모델 학습\n",
    "\n",
    "- XGB와 LightBGM 분류 학습을 통해 사용자가 어떤 목적지를 예약할지 예측을하는 분류 학습 모델을 생성\n",
    "- 기존 데이터, country 데이터 병합, sessions 데이터 병합, country_sessions 데이터 병합의 비교를 통해 병합 데이터가 성능을 높이는 데 의미가 있는지 판단\n",
    "\n",
    "## 결과 요약\n",
    "\n",
    "- XGB : Private Score 0.85711, Public Score 0.85345로 성능이 나쁘지 않은 모델이 생성되었으며, 둘의 차이가 크지 않은 것을 보아 과적합이 되지 않음을 알 수 있음.\n",
    "- LightBGM : Private Score 0.77494, Public Score 0.77117 과적합이 되지 않았으나 XGB 모델보다 평가가 좋지 않음\n",
    "\n",
    "### 병합 데이터 NDCG SCORE 비교\n",
    "\n",
    "Clean : 0.8233732350776741<br>\n",
    "Country : 0.9826664673095211<br>\n",
    "Session : 0.8491297566294652<br>\n",
    "Country_Session : 0.9825252250725767<br>\n",
    "<br>\n",
    "해당 결과로 병합한 데이터가 좀 더 성능을 높이는 데 의미가 있음을 알 수 있음\n",
    "\n"
   ]
  },
  {
   "cell_type": "code",
   "execution_count": null,
   "metadata": {
    "id": "vQPTg0h9X282"
   },
   "outputs": [],
   "source": [
    "!mkdir -p /content/dataset/origin\n",
    "!mkdir -p /content/dataset/clean"
   ]
  },
  {
   "cell_type": "code",
   "execution_count": null,
   "metadata": {
    "colab": {
     "base_uri": "https://localhost:8080/"
    },
    "id": "Xglf898tX52W",
    "outputId": "db6b67ee-ee58-4af6-9b7d-259fc8734d58"
   },
   "outputs": [
    {
     "name": "stdout",
     "output_type": "stream",
     "text": [
      "Cloning into '2024-07-18-DataThon'...\n",
      "remote: Enumerating objects: 27, done.\u001b[K\n",
      "remote: Counting objects: 100% (27/27), done.\u001b[K\n",
      "remote: Compressing objects: 100% (20/20), done.\u001b[K\n",
      "remote: Total 27 (delta 0), reused 0 (delta 0), pack-reused 0\u001b[K\n",
      "Receiving objects: 100% (27/27), 13.64 MiB | 10.21 MiB/s, done.\n"
     ]
    }
   ],
   "source": [
    "!git clone https://github.com/hardok00/2024-07-18-DataThon.git"
   ]
  },
  {
   "cell_type": "code",
   "execution_count": null,
   "metadata": {
    "colab": {
     "base_uri": "https://localhost:8080/"
    },
    "id": "tNBdgsCYYHt6",
    "outputId": "e4f1cf9d-687c-4cb1-af5a-5fd21c68645f"
   },
   "outputs": [
    {
     "name": "stdout",
     "output_type": "stream",
     "text": [
      "Archive:  /content/2024-07-18-DataThon/dataset/clean_dataset.zip\n",
      "  inflating: /content/dataset/clean/test_clean.csv  \n",
      "  inflating: /content/dataset/clean/train_clean.csv  \n",
      "  inflating: /content/dataset/clean/train_clean_with_country.csv  \n",
      "  inflating: /content/dataset/clean/train_clean_with_session.csv  \n",
      "  inflating: /content/dataset/clean/train_clean_with_two_datasets.csv  \n"
     ]
    }
   ],
   "source": [
    "!unzip /content/2024-07-18-DataThon/dataset/clean_dataset.zip -d /content/dataset/clean"
   ]
  },
  {
   "cell_type": "code",
   "execution_count": null,
   "metadata": {
    "id": "4m75Y1vLYJM-"
   },
   "outputs": [],
   "source": [
    "import pandas as pd\n",
    "import numpy as np\n",
    "import matplotlib.pyplot as plt\n",
    "import seaborn as sns\n",
    "from glob import glob"
   ]
  },
  {
   "cell_type": "code",
   "execution_count": null,
   "metadata": {
    "id": "FmxlhQ4beruW"
   },
   "outputs": [],
   "source": [
    "# ndcg_score 계산 함수\n",
    "# https://www.kaggle.com/code/davidgasquez/ndcg-scorer 참고\n",
    "\n",
    "from sklearn.preprocessing import LabelBinarizer\n",
    "from sklearn.metrics import make_scorer\n",
    "\n",
    "def dcg_score(y_true, y_score, k=5):\n",
    "    order = np.argsort(y_score)[::-1]\n",
    "    y_true = np.take(y_true, order[:k])\n",
    "\n",
    "    gain = 2 ** y_true - 1\n",
    "\n",
    "    discounts = np.log2(np.arange(len(y_true)) + 2)\n",
    "    return np.sum(gain / discounts)\n",
    "\n",
    "\n",
    "def ndcg_score_udf(ground_truth, predictions, k=5):\n",
    "    lb = LabelBinarizer()\n",
    "    lb.fit(range(predictions.shape[1] + 1))\n",
    "    T = lb.transform(ground_truth)\n",
    "\n",
    "    scores = []\n",
    "\n",
    "    # Iterate over each y_true and compute the DCG score\n",
    "    for y_true, y_score in zip(T, predictions):\n",
    "        actual = dcg_score(y_true, y_score, k)\n",
    "        best = dcg_score(y_true, y_true, k)\n",
    "        score = float(actual) / float(best)\n",
    "        scores.append(score)\n",
    "\n",
    "    return np.mean(scores)\n",
    "\n",
    "# Create the scorer with NDCG score metric function\n",
    "ndcg_scorer = make_scorer(ndcg_score_udf, needs_proba=True, k=5)"
   ]
  },
  {
   "cell_type": "code",
   "execution_count": null,
   "metadata": {
    "id": "O68ZxWIRwl-t"
   },
   "outputs": [],
   "source": [
    "# CSV 파일 생성\n",
    "def make_csv(test_id, y_pred, le, model_name='model'):\n",
    "  # 가장 높은 확률을 가진 국가 5개를 선택하고 리스트에 저장\n",
    "  ids = []  #list of ids\n",
    "  cts = []  #list of countries\n",
    "\n",
    "  for i in range(len(test_id)):\n",
    "      idx = test_id[i]\n",
    "      ids += [idx] * 5\n",
    "      cts += le.inverse_transform(np.argsort(y_pred[i])[::-1])[:5].tolist()\n",
    "\n",
    "  sub = pd.DataFrame(np.column_stack((ids, cts)), columns=['id', 'country'])\n",
    "  sub.to_csv(f'/content/sub_{model_name}.csv',index=False)"
   ]
  },
  {
   "cell_type": "code",
   "execution_count": null,
   "metadata": {
    "id": "bm2ChMBAYL3Q"
   },
   "outputs": [],
   "source": [
    "# 데이터 병합\n",
    "\n",
    "def data_labeling(train):\n",
    "  label = train['country_destination']\n",
    "  train = train.drop(['id', 'age_bucket', 'country_destination'], axis=1)\n",
    "\n",
    "  train_shape = train.shape[0]\n",
    "\n",
    "  return train, label, train_shape\n",
    "\n",
    "def data_merge(train, test):\n",
    "  test_id = test['id']\n",
    "  train = pd.concat((train, test), axis=0, ignore_index=True)\n",
    "  train = train.drop(['id', 'age_bucket'], axis=1)\n",
    "\n",
    "  return train, test_id\n",
    "\n",
    "# date_account_created 데이터 분리 년 월 일\n",
    "\n",
    "def data_dac_vstack(dataset):\n",
    "  dac = np.vstack(dataset.date_account_created.astype(str).apply(lambda x: list(map(int, x.split('-')))).values)\n",
    "\n",
    "  dataset['dac_year'] = dac[:,0]\n",
    "  dataset['dac_month'] = dac[:,1]\n",
    "  dataset['dac_day'] = dac[:,2]\n",
    "  dataset = dataset.drop(['date_account_created'], axis=1)\n",
    "\n",
    "  return dataset\n",
    "\n",
    "# timestamp_first_active 데이터 분리 년 월 일 시\n",
    "\n",
    "def data_tfa_vstack(dataset):\n",
    "  tfa = np.vstack(dataset.timestamp_first_active.astype(str).apply(lambda x: list(map(int, [x[:4],x[4:6],x[6:8],x[8:10],x[10:12],x[12:14]]))).values)\n",
    "  dataset['tfa_year'] = tfa[:,0]\n",
    "  dataset['tfa_month'] = tfa[:,1]\n",
    "  dataset['tfa_day'] = tfa[:,2]\n",
    "  dataset['tfa_hour'] = tfa[:,3]\n",
    "  dataset = dataset.drop(['timestamp_first_active'], axis=1)\n",
    "\n",
    "  return dataset\n",
    "\n",
    "# 원핫 인코딩\n",
    "\n",
    "def one_hot_encoding(dataset):\n",
    "  ohe_feats = dataset.select_dtypes(include=['object']).columns.tolist()\n",
    "  ohe_feats.append('signup_flow')\n",
    "  for f in ohe_feats:\n",
    "    dataset_dummy = pd.get_dummies(dataset[f], prefix=f)\n",
    "    dataset = dataset.drop([f], axis=1)\n",
    "    dataset = pd.concat((dataset, dataset_dummy), axis=1)\n",
    "\n",
    "  return dataset\n",
    "\n",
    "def data_feature_engineering(train, test=None):\n",
    "  test_id = None\n",
    "  train, label, train_shape = data_labeling(train)\n",
    "  if test is not None:\n",
    "    train, test_id = data_merge(train, test)\n",
    "\n",
    "  train = data_dac_vstack(train)\n",
    "  train = data_tfa_vstack(train)\n",
    "  train = one_hot_encoding(train)\n",
    "\n",
    "  return train, label, train_shape, test_id"
   ]
  },
  {
   "cell_type": "code",
   "execution_count": null,
   "metadata": {
    "id": "V1uAfUOXZxQe"
   },
   "outputs": [],
   "source": [
    "# train, test 데이터 분열\n",
    "\n",
    "from sklearn.preprocessing import LabelEncoder\n",
    "from xgboost.sklearn import XGBClassifier\n",
    "from sklearn.model_selection import train_test_split\n",
    "\n",
    "def train_val_split(train, label, train_shape):\n",
    "  vals = train.values\n",
    "  X = vals[:train_shape]\n",
    "  le = LabelEncoder()\n",
    "  y = le.fit_transform(label)\n",
    "  X_test = vals[train_shape:]\n",
    "\n",
    "  return X, y, X_test\n",
    "\n",
    "def train_split(train, label):\n",
    "  le = LabelEncoder()\n",
    "  y = le.fit_transform(label)\n",
    "\n",
    "  X_train, X_test, y_train, y_test = train_test_split(train, y, test_size=0.2, random_state=42)\n",
    "\n",
    "  return X_train, X_test, y_train, y_test"
   ]
  },
  {
   "cell_type": "code",
   "execution_count": null,
   "metadata": {
    "id": "6HnpHAyzYJ9j"
   },
   "outputs": [],
   "source": [
    "# clean dataset load\n",
    "\n",
    "train_clean_users_df = pd.read_csv('/content/dataset/clean/train_clean.csv')\n",
    "test_clean_users_df = pd.read_csv('/content/dataset/clean/test_clean.csv')\n",
    "\n",
    "# 밑 3개의 데이터 셋은 test 데이터에도 똑같이 적용을 시켜줘야 예측이 가능함.\n",
    "country_clean_users_df = pd.read_csv('/content/dataset/clean/train_clean_with_country.csv')\n",
    "sessions_clean_users_df = pd.read_csv('/content/dataset/clean/train_clean_with_session.csv')\n",
    "country_sessions_clean_users_df = pd.read_csv('/content/dataset/clean/train_clean_with_two_datasets.csv')\n",
    "\n",
    "clean_dataset_list = ['train_clean_users_df', 'test_clean_users_df', 'country_clean_users_df', 'sessions_clean_users_df', 'country_sessions_clean_users_df']"
   ]
  },
  {
   "cell_type": "markdown",
   "metadata": {
    "id": "7KYR6tR8tmSD"
   },
   "source": [
    "## XGB 분류 학습"
   ]
  },
  {
   "cell_type": "code",
   "execution_count": null,
   "metadata": {
    "id": "3il0Xcj1C4qm"
   },
   "outputs": [],
   "source": [
    "def xgb_train(X, y, xgb_para, X_test):\n",
    "  xgb = XGBClassifier(**xgb_para)\n",
    "  xgb.fit(X, y)\n",
    "  y_xgb_pred = xgb.predict_proba(X_test)\n",
    "\n",
    "  return xgb, y_xgb_pred"
   ]
  },
  {
   "cell_type": "code",
   "execution_count": null,
   "metadata": {
    "id": "WtRobq39WIkg"
   },
   "outputs": [],
   "source": [
    "clean_train, clean_label, clean_train_shape, clean_test_id = data_feature_engineering(train_clean_users_df, test_clean_users_df)"
   ]
  },
  {
   "cell_type": "code",
   "execution_count": null,
   "metadata": {
    "id": "8q2Z4dFnGK3w"
   },
   "outputs": [],
   "source": [
    "le = LabelEncoder()\n",
    "y = le.fit_transform(clean_label)"
   ]
  },
  {
   "cell_type": "code",
   "execution_count": null,
   "metadata": {
    "id": "pNYhKMbxAHfj"
   },
   "outputs": [],
   "source": [
    "# 데이터 분열\n",
    "\n",
    "X, y, X_test = train_val_split(clean_train, clean_label, clean_train_shape)"
   ]
  },
  {
   "cell_type": "code",
   "execution_count": null,
   "metadata": {
    "id": "0-cQiUpea7IK"
   },
   "outputs": [],
   "source": [
    "# 파라미터 설정\n",
    "xgb_para = {\n",
    "            'max_depth': 6,\n",
    "            'learning_rate': 0.3,\n",
    "            'n_estimators' : 25,\n",
    "            'objective': 'multi:softprob',\n",
    "            'subsample': 0.5,\n",
    "            'colsample_bytree': 0.5,\n",
    "            'seed': 0\n",
    "            }"
   ]
  },
  {
   "cell_type": "code",
   "execution_count": null,
   "metadata": {
    "id": "5D7AwlctDFFT"
   },
   "outputs": [],
   "source": [
    "clean_xgb, clean_y_xgb_pred = xgb_train(X, y, xgb_para, X_test)"
   ]
  },
  {
   "cell_type": "code",
   "execution_count": null,
   "metadata": {
    "colab": {
     "base_uri": "https://localhost:8080/"
    },
    "id": "2nkfr4Ahq0fU",
    "outputId": "9312dadd-569e-4762-dd4b-b31d906cfccb"
   },
   "outputs": [
    {
     "name": "stdout",
     "output_type": "stream",
     "text": [
      "NDCG : 0.7678214298134697\n"
     ]
    }
   ],
   "source": [
    "xgb_ndcg_score = ndcg_score_udf(y, clean_y_xgb_pred)\n",
    "print(f\"NDCG : {xgb_ndcg_score}\")"
   ]
  },
  {
   "cell_type": "code",
   "execution_count": null,
   "metadata": {
    "id": "ON48u0POjLjx"
   },
   "outputs": [],
   "source": [
    "# 가장 높은 확률을 가진 국가 5개를 선택하고 리스트에 저장\n",
    "make_csv(clean_test_id, clean_y_xgb_pred, le, clean_xgb.__class__.__name__)"
   ]
  },
  {
   "cell_type": "markdown",
   "metadata": {
    "id": "tb037KTIlxNc"
   },
   "source": [
    "### XGB Submission 제출 결과\n",
    "\n",
    "Private Score 0.85711<br>\n",
    "Public Score 0.85345\n",
    "\n",
    "둘의 차이가 크다면 과적합 의심"
   ]
  },
  {
   "cell_type": "code",
   "execution_count": null,
   "metadata": {
    "id": "0x087mjlCGha"
   },
   "outputs": [],
   "source": [
    "clean_train, clean_label, _, _ =  data_feature_engineering(train_clean_users_df)"
   ]
  },
  {
   "cell_type": "code",
   "execution_count": null,
   "metadata": {
    "id": "5sjczU5mCM36"
   },
   "outputs": [],
   "source": [
    "X_train, X_test, y_train, y_test = train_split(clean_train, clean_label)"
   ]
  },
  {
   "cell_type": "code",
   "execution_count": null,
   "metadata": {
    "id": "LdUSbCW1CRqS"
   },
   "outputs": [],
   "source": [
    "clean_xgb, clean_y_xgb_pred = xgb_train(X_train, y_train, xgb_para, X_test)"
   ]
  },
  {
   "cell_type": "code",
   "execution_count": null,
   "metadata": {
    "colab": {
     "base_uri": "https://localhost:8080/"
    },
    "id": "N2ykzkTyCV7d",
    "outputId": "78867128-1f79-4f38-96e8-00650e19dd39"
   },
   "outputs": [
    {
     "name": "stdout",
     "output_type": "stream",
     "text": [
      "NDCG : 0.8233732350776741\n"
     ]
    }
   ],
   "source": [
    "xgb_ndcg_score = ndcg_score_udf(y_test, clean_y_xgb_pred)\n",
    "print(f\"NDCG : {xgb_ndcg_score}\")"
   ]
  },
  {
   "cell_type": "markdown",
   "metadata": {
    "id": "DMjr-AxhTIrC"
   },
   "source": [
    "## Country 병합 데이터 XGB 학습 후 NDCG Score 측정"
   ]
  },
  {
   "cell_type": "code",
   "execution_count": null,
   "metadata": {
    "id": "_ZJseNSsWLbT"
   },
   "outputs": [],
   "source": [
    "country_train, country_label, _, _ =  data_feature_engineering(country_clean_users_df)"
   ]
  },
  {
   "cell_type": "code",
   "execution_count": null,
   "metadata": {
    "id": "ypuRS52FTYRt"
   },
   "outputs": [],
   "source": [
    "X_train, X_test, y_train, y_test = train_split(country_train, country_label)"
   ]
  },
  {
   "cell_type": "code",
   "execution_count": null,
   "metadata": {
    "id": "KBOB4lKhTS-D"
   },
   "outputs": [],
   "source": [
    "country_xgb, country_y_xgb_pred = xgb_train(X_train, y_train, xgb_para, X_test)"
   ]
  },
  {
   "cell_type": "code",
   "execution_count": null,
   "metadata": {
    "colab": {
     "base_uri": "https://localhost:8080/"
    },
    "id": "O4o_L72rT5Ht",
    "outputId": "6956b282-c347-4e47-fcc7-96025573086a"
   },
   "outputs": [
    {
     "name": "stdout",
     "output_type": "stream",
     "text": [
      "NDCG : 0.9826664673095211\n"
     ]
    }
   ],
   "source": [
    "xgb_ndcg_score = ndcg_score_udf(y_test, country_y_xgb_pred)\n",
    "print(f\"NDCG : {xgb_ndcg_score}\")"
   ]
  },
  {
   "cell_type": "markdown",
   "metadata": {
    "id": "vsvE6XhZWCbl"
   },
   "source": [
    "## Session 병합 데이터 XGB 학습 후 NDCG Score 측정"
   ]
  },
  {
   "cell_type": "code",
   "execution_count": null,
   "metadata": {
    "id": "sO0SW2bVT7Zh"
   },
   "outputs": [],
   "source": [
    "sessions_train, sessions_label, _, _ =  data_feature_engineering(sessions_clean_users_df)"
   ]
  },
  {
   "cell_type": "code",
   "execution_count": null,
   "metadata": {
    "id": "41bCGPe9WPco"
   },
   "outputs": [],
   "source": [
    "X_train, X_test, y_train, y_test = train_split(sessions_train, sessions_label)"
   ]
  },
  {
   "cell_type": "code",
   "execution_count": null,
   "metadata": {
    "id": "fxPIX0qvWaOH"
   },
   "outputs": [],
   "source": [
    "sessions_xgb, sessions_y_xgb_pred = xgb_train(X_train, y_train, xgb_para, X_test)"
   ]
  },
  {
   "cell_type": "code",
   "execution_count": null,
   "metadata": {
    "colab": {
     "base_uri": "https://localhost:8080/"
    },
    "id": "cZpEASa_Wkaz",
    "outputId": "0893b55a-7cd6-48e6-87a7-2d58dfd8735a"
   },
   "outputs": [
    {
     "name": "stdout",
     "output_type": "stream",
     "text": [
      "NDCG : 0.8491297566294652\n"
     ]
    }
   ],
   "source": [
    "xgb_ndcg_score = ndcg_score_udf(y_test, sessions_y_xgb_pred)\n",
    "print(f\"NDCG : {xgb_ndcg_score}\")"
   ]
  },
  {
   "cell_type": "markdown",
   "metadata": {
    "id": "cxxEEcgsWrD7"
   },
   "source": [
    "## Country, Session 병합 데이터 XGB 학습 후 NDCG Score 측정"
   ]
  },
  {
   "cell_type": "code",
   "execution_count": null,
   "metadata": {
    "id": "FelQC8GnWuUd"
   },
   "outputs": [],
   "source": [
    "country_sessions_train, country_sessions_label, _, _ =  data_feature_engineering(country_sessions_clean_users_df)"
   ]
  },
  {
   "cell_type": "code",
   "execution_count": null,
   "metadata": {
    "id": "v34pLIUDW0JT"
   },
   "outputs": [],
   "source": [
    "X_train, X_test, y_train, y_test = train_split(country_sessions_train, country_sessions_label)"
   ]
  },
  {
   "cell_type": "code",
   "execution_count": null,
   "metadata": {
    "id": "ax1BgHQUW9DM"
   },
   "outputs": [],
   "source": [
    "country_sessions_xgb, country_sessions_y_xgb_pred = xgb_train(X_train, y_train, xgb_para, X_test)"
   ]
  },
  {
   "cell_type": "code",
   "execution_count": null,
   "metadata": {
    "colab": {
     "base_uri": "https://localhost:8080/"
    },
    "id": "saREfOPoXCDi",
    "outputId": "63013f48-5ece-42ca-92b1-b7528be53a81"
   },
   "outputs": [
    {
     "name": "stdout",
     "output_type": "stream",
     "text": [
      "NDCG : 0.9825252250725767\n"
     ]
    }
   ],
   "source": [
    "xgb_ndcg_score = ndcg_score_udf(y_test, country_sessions_y_xgb_pred)\n",
    "print(f\"NDCG : {xgb_ndcg_score}\")"
   ]
  },
  {
   "cell_type": "markdown",
   "metadata": {
    "id": "px3aPybKXX1i"
   },
   "source": [
    "## NDCG Score 측정 결과\n",
    "\n",
    "Clean : 0.8233732350776741<br>\n",
    "Country : 0.9826664673095211<br>\n",
    "Session : 0.8491297566294652<br>\n",
    "Country_Session : 0.9825252250725767"
   ]
  },
  {
   "cell_type": "markdown",
   "metadata": {
    "id": "IiAs6GDexqn5"
   },
   "source": [
    "## LGBM 분류 학습"
   ]
  },
  {
   "cell_type": "code",
   "execution_count": null,
   "metadata": {
    "colab": {
     "base_uri": "https://localhost:8080/"
    },
    "id": "dYZPibDoxuMa",
    "outputId": "f27a495a-6072-4778-c01b-2bac3e1900c3"
   },
   "outputs": [
    {
     "name": "stdout",
     "output_type": "stream",
     "text": [
      "[LightGBM] [Warning] min_data_in_leaf is set=20, min_child_samples=20 will be ignored. Current value: min_data_in_leaf=20\n",
      "[LightGBM] [Warning] min_data_in_leaf is set=20, min_child_samples=20 will be ignored. Current value: min_data_in_leaf=20\n",
      "[LightGBM] [Info] Auto-choosing row-wise multi-threading, the overhead of testing was 0.063012 seconds.\n",
      "You can set `force_row_wise=true` to remove the overhead.\n",
      "And if memory is not enough, you can set `force_col_wise=true`.\n",
      "[LightGBM] [Info] Total Bins 592\n",
      "[LightGBM] [Info] Number of data points in the train set: 213451, number of used features: 106\n",
      "[LightGBM] [Info] Start training from score -5.981447\n",
      "[LightGBM] [Info] Start training from score -5.007132\n",
      "[LightGBM] [Info] Start training from score -5.304195\n",
      "[LightGBM] [Info] Start training from score -4.552922\n",
      "[LightGBM] [Info] Start training from score -3.749380\n",
      "[LightGBM] [Info] Start training from score -4.520117\n",
      "[LightGBM] [Info] Start training from score -4.321365\n",
      "[LightGBM] [Info] Start training from score -0.538756\n",
      "[LightGBM] [Info] Start training from score -5.635216\n",
      "[LightGBM] [Info] Start training from score -6.891265\n",
      "[LightGBM] [Info] Start training from score -1.230227\n",
      "[LightGBM] [Info] Start training from score -3.051466\n",
      "[LightGBM] [Warning] No further splits with positive gain, best gain: -inf\n",
      "[LightGBM] [Warning] No further splits with positive gain, best gain: -inf\n",
      "[LightGBM] [Warning] No further splits with positive gain, best gain: -inf\n",
      "[LightGBM] [Warning] No further splits with positive gain, best gain: -inf\n",
      "[LightGBM] [Warning] No further splits with positive gain, best gain: -inf\n",
      "[LightGBM] [Warning] min_data_in_leaf is set=20, min_child_samples=20 will be ignored. Current value: min_data_in_leaf=20\n"
     ]
    }
   ],
   "source": [
    "import lightgbm as lgb\n",
    "\n",
    "lgbm = lgb.LGBMClassifier(\n",
    "    max_depth=6,\n",
    "    learning_rate=0.3,\n",
    "    n_estimators=25,\n",
    "    objective='multiclass',\n",
    "    num_class=len(np.unique(y)),\n",
    "    subsample=0.5,\n",
    "    colsample_bytree=0.5,\n",
    "    random_state=0,\n",
    "    num_leaves=32,\n",
    "    min_data_in_leaf=20,\n",
    "    max_bin=255\n",
    ")\n",
    "\n",
    "lgbm.fit(X, y)\n",
    "y_lgbm_pred = lgbm.predict_proba(X_test)"
   ]
  },
  {
   "cell_type": "code",
   "execution_count": null,
   "metadata": {
    "colab": {
     "base_uri": "https://localhost:8080/"
    },
    "id": "6wjoeTJxx64o",
    "outputId": "fa21a3b8-e345-4ac3-9a17-987c4ea95572"
   },
   "outputs": [
    {
     "name": "stdout",
     "output_type": "stream",
     "text": [
      "NDCG : 0.703719565708642\n"
     ]
    }
   ],
   "source": [
    "lgbm_ndcg_score = ndcg_score_udf(y, y_lgbm_pred)\n",
    "print(f\"NDCG : {lgbm_ndcg_score}\")"
   ]
  },
  {
   "cell_type": "code",
   "execution_count": null,
   "metadata": {
    "id": "oLWvYkO5y41Z"
   },
   "outputs": [],
   "source": [
    "# 가장 높은 확률을 가진 국가 5개를 선택하고 리스트에 저장\n",
    "make_csv(clean_test_id, y_lgbm_pred, lgbm.__class__.__name__)"
   ]
  },
  {
   "cell_type": "markdown",
   "metadata": {
    "id": "afNQgfEBzLLu"
   },
   "source": [
    "## Submission 제출 결과\n",
    "\n",
    "Private Score 0.77494<br>\n",
    "Public Score 0.77117\n",
    "\n",
    "둘의 차이가 크다면 과적합 의심\n",
    "\n",
    "XGB 분류 보다 성능이 낮게 나옴"
   ]
  }
 ],
 "metadata": {
  "colab": {
   "provenance": []
  },
  "kernelspec": {
   "display_name": "Python 3 (ipykernel)",
   "language": "python",
   "name": "python3"
  },
  "language_info": {
   "codemirror_mode": {
    "name": "ipython",
    "version": 3
   },
   "file_extension": ".py",
   "mimetype": "text/x-python",
   "name": "python",
   "nbconvert_exporter": "python",
   "pygments_lexer": "ipython3",
   "version": "3.11.7"
  }
 },
 "nbformat": 4,
 "nbformat_minor": 4
}
